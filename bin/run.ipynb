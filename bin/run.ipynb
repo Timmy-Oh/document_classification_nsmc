{
 "cells": [
  {
   "cell_type": "code",
   "execution_count": null,
   "metadata": {},
   "outputs": [],
   "source": [
    "!python main.py --model baseline --epochs 30"
   ]
  },
  {
   "cell_type": "code",
   "execution_count": 5,
   "metadata": {},
   "outputs": [
    {
     "name": "stdout",
     "output_type": "stream",
     "text": [
      "/home/timmy/anaconda3/lib/python3.6/site-packages/h5py/__init__.py:36: FutureWarning: Conversion of the second argument of issubdtype from `float` to `np.floating` is deprecated. In future, it will be treated as `np.float64 == np.dtype(float).type`.\n",
      "  from ._conv import register_converters as _register_converters\n",
      "Using TensorFlow backend.\n",
      "model creating...\n",
      "_________________________________________________________________\n",
      "Layer (type)                 Output Shape              Param #   \n",
      "=================================================================\n",
      "input (InputLayer)           (None, 250)               0         \n",
      "_________________________________________________________________\n",
      "embedding_1 (Embedding)      (None, 250, 251)          63001     \n",
      "_________________________________________________________________\n",
      "spatial_dropout1d_1 (Spatial (None, 250, 251)          0         \n",
      "_________________________________________________________________\n",
      "bidirectional_1 (Bidirection (None, 250, 128)          121728    \n",
      "_________________________________________________________________\n",
      "bidirectional_2 (Bidirection (None, 64)                31104     \n",
      "_________________________________________________________________\n",
      "dense_1 (Dense)              (None, 2)                 130       \n",
      "=================================================================\n",
      "Total params: 215,963\n",
      "Trainable params: 215,963\n",
      "Non-trainable params: 0\n",
      "_________________________________________________________________\n",
      "2018-05-03 00:58:39.270247: I tensorflow/core/platform/cpu_feature_guard.cc:140] Your CPU supports instructions that this TensorFlow binary was not compiled to use: AVX2 FMA\n",
      "2018-05-03 00:58:39.384644: I tensorflow/stream_executor/cuda/cuda_gpu_executor.cc:898] successful NUMA node read from SysFS had negative value (-1), but there must be at least one NUMA node, so returning NUMA node zero\n",
      "2018-05-03 00:58:39.385097: I tensorflow/core/common_runtime/gpu/gpu_device.cc:1356] Found device 0 with properties: \n",
      "name: GeForce GTX 1080 Ti major: 6 minor: 1 memoryClockRate(GHz): 1.683\n",
      "pciBusID: 0000:01:00.0\n",
      "totalMemory: 10.91GiB freeMemory: 9.95GiB\n",
      "2018-05-03 00:58:39.385111: I tensorflow/core/common_runtime/gpu/gpu_device.cc:1435] Adding visible gpu devices: 0\n",
      "2018-05-03 00:58:39.558625: I tensorflow/core/common_runtime/gpu/gpu_device.cc:923] Device interconnect StreamExecutor with strength 1 edge matrix:\n",
      "2018-05-03 00:58:39.558657: I tensorflow/core/common_runtime/gpu/gpu_device.cc:929]      0 \n",
      "2018-05-03 00:58:39.558663: I tensorflow/core/common_runtime/gpu/gpu_device.cc:942] 0:   N \n",
      "2018-05-03 00:58:39.558847: I tensorflow/core/common_runtime/gpu/gpu_device.cc:1053] Created TensorFlow device (/job:localhost/replica:0/task:0/device:GPU:0 with 9627 MB memory) -> physical GPU (device: 0, name: GeForce GTX 1080 Ti, pci bus id: 0000:01:00.0, compute capability: 6.1)\n",
      "Model is loaded\n",
      "TestData is loadded\n",
      "prediction is completed\n",
      "Accuracy : 0.8546\n"
     ]
    }
   ],
   "source": [
    "!python main.py --mode test --model baseline"
   ]
  },
  {
   "cell_type": "code",
   "execution_count": null,
   "metadata": {},
   "outputs": [],
   "source": [
    "!python main.py --model baseline_attetion --epochs 30"
   ]
  },
  {
   "cell_type": "code",
   "execution_count": null,
   "metadata": {},
   "outputs": [],
   "source": [
    "!python main.py --model baseline_attetion --mode test"
   ]
  },
  {
   "cell_type": "code",
   "execution_count": null,
   "metadata": {},
   "outputs": [],
   "source": [
    "!python main.py --model baseline_attetion_fc --epochs 30"
   ]
  },
  {
   "cell_type": "code",
   "execution_count": 1,
   "metadata": {},
   "outputs": [
    {
     "name": "stdout",
     "output_type": "stream",
     "text": [
      "/home/timmy/anaconda3/lib/python3.6/site-packages/h5py/__init__.py:36: FutureWarning: Conversion of the second argument of issubdtype from `float` to `np.floating` is deprecated. In future, it will be treated as `np.float64 == np.dtype(float).type`.\n",
      "  from ._conv import register_converters as _register_converters\n",
      "Using TensorFlow backend.\n",
      "model creating...\n",
      "_________________________________________________________________\n",
      "Layer (type)                 Output Shape              Param #   \n",
      "=================================================================\n",
      "input (InputLayer)           (None, 250)               0         \n",
      "_________________________________________________________________\n",
      "embedding_1 (Embedding)      (None, 250, 251)          63001     \n",
      "_________________________________________________________________\n",
      "spatial_dropout1d_1 (Spatial (None, 250, 251)          0         \n",
      "_________________________________________________________________\n",
      "bidirectional_1 (Bidirection (None, 250, 128)          121728    \n",
      "_________________________________________________________________\n",
      "bidirectional_2 (Bidirection (None, 64)                31104     \n",
      "_________________________________________________________________\n",
      "dense_1 (Dense)              (None, 2)                 130       \n",
      "=================================================================\n",
      "Total params: 215,963\n",
      "Trainable params: 215,963\n",
      "Non-trainable params: 0\n",
      "_________________________________________________________________\n",
      "data loading...\n",
      "model training...\n",
      "WARNING:tensorflow:Variable *= will be deprecated. Use variable.assign_mul if you want assignment to the variable value or 'x = x * y' if you want a new python Tensor object.\n",
      "Train on 150000 samples, validate on 50000 samples\n",
      "Epoch 1/50\n",
      "2018-05-03 00:26:16.329921: I tensorflow/core/platform/cpu_feature_guard.cc:140] Your CPU supports instructions that this TensorFlow binary was not compiled to use: AVX2 FMA\n",
      "2018-05-03 00:26:16.440086: I tensorflow/stream_executor/cuda/cuda_gpu_executor.cc:898] successful NUMA node read from SysFS had negative value (-1), but there must be at least one NUMA node, so returning NUMA node zero\n",
      "2018-05-03 00:26:16.440501: I tensorflow/core/common_runtime/gpu/gpu_device.cc:1356] Found device 0 with properties: \n",
      "name: GeForce GTX 1080 Ti major: 6 minor: 1 memoryClockRate(GHz): 1.683\n",
      "pciBusID: 0000:01:00.0\n",
      "totalMemory: 10.91GiB freeMemory: 9.95GiB\n",
      "2018-05-03 00:26:16.440528: I tensorflow/core/common_runtime/gpu/gpu_device.cc:1435] Adding visible gpu devices: 0\n",
      "2018-05-03 00:26:16.599734: I tensorflow/core/common_runtime/gpu/gpu_device.cc:923] Device interconnect StreamExecutor with strength 1 edge matrix:\n",
      "2018-05-03 00:26:16.599770: I tensorflow/core/common_runtime/gpu/gpu_device.cc:929]      0 \n",
      "2018-05-03 00:26:16.599778: I tensorflow/core/common_runtime/gpu/gpu_device.cc:942] 0:   N \n",
      "2018-05-03 00:26:16.599970: I tensorflow/core/common_runtime/gpu/gpu_device.cc:1053] Created TensorFlow device (/job:localhost/replica:0/task:0/device:GPU:0 with 9627 MB memory) -> physical GPU (device: 0, name: GeForce GTX 1080 Ti, pci bus id: 0000:01:00.0, compute capability: 6.1)\n",
      " - 85s - loss: 0.5696 - categorical_crossentropy: 0.5696 - acc: 0.6935 - val_loss: 0.5183 - val_categorical_crossentropy: 0.5183 - val_acc: 0.7343\n",
      "Epoch 2/50\n",
      " - 83s - loss: 0.4793 - categorical_crossentropy: 0.4793 - acc: 0.7618 - val_loss: 0.4414 - val_categorical_crossentropy: 0.4414 - val_acc: 0.7872\n",
      "Epoch 3/50\n",
      " - 83s - loss: 0.4176 - categorical_crossentropy: 0.4176 - acc: 0.8029 - val_loss: 0.3983 - val_categorical_crossentropy: 0.3983 - val_acc: 0.8151\n",
      "Epoch 4/50\n",
      " - 83s - loss: 0.3810 - categorical_crossentropy: 0.3810 - acc: 0.8247 - val_loss: 0.3733 - val_categorical_crossentropy: 0.3733 - val_acc: 0.8274\n",
      "Epoch 5/50\n",
      " - 83s - loss: 0.3580 - categorical_crossentropy: 0.3580 - acc: 0.8386 - val_loss: 0.3626 - val_categorical_crossentropy: 0.3626 - val_acc: 0.8344\n",
      "Epoch 6/50\n",
      " - 83s - loss: 0.3421 - categorical_crossentropy: 0.3421 - acc: 0.8472 - val_loss: 0.3552 - val_categorical_crossentropy: 0.3552 - val_acc: 0.8409\n",
      "Epoch 7/50\n",
      " - 83s - loss: 0.3294 - categorical_crossentropy: 0.3294 - acc: 0.8537 - val_loss: 0.3547 - val_categorical_crossentropy: 0.3547 - val_acc: 0.8411\n",
      "Epoch 8/50\n",
      " - 83s - loss: 0.3202 - categorical_crossentropy: 0.3202 - acc: 0.8598 - val_loss: 0.3423 - val_categorical_crossentropy: 0.3423 - val_acc: 0.8464\n",
      "Epoch 9/50\n",
      " - 83s - loss: 0.3107 - categorical_crossentropy: 0.3107 - acc: 0.8646 - val_loss: 0.3558 - val_categorical_crossentropy: 0.3558 - val_acc: 0.8415\n",
      "Epoch 10/50\n",
      " - 83s - loss: 0.3042 - categorical_crossentropy: 0.3042 - acc: 0.8678 - val_loss: 0.3385 - val_categorical_crossentropy: 0.3385 - val_acc: 0.8501\n",
      "Epoch 11/50\n",
      " - 83s - loss: 0.2968 - categorical_crossentropy: 0.2968 - acc: 0.8710 - val_loss: 0.3364 - val_categorical_crossentropy: 0.3364 - val_acc: 0.8521\n",
      "Epoch 12/50\n",
      " - 83s - loss: 0.2914 - categorical_crossentropy: 0.2914 - acc: 0.8748 - val_loss: 0.3370 - val_categorical_crossentropy: 0.3370 - val_acc: 0.8535\n",
      "Epoch 13/50\n",
      " - 83s - loss: 0.2851 - categorical_crossentropy: 0.2851 - acc: 0.8781 - val_loss: 0.3449 - val_categorical_crossentropy: 0.3449 - val_acc: 0.8508\n",
      "Epoch 14/50\n",
      " - 83s - loss: 0.2810 - categorical_crossentropy: 0.2810 - acc: 0.8804 - val_loss: 0.3384 - val_categorical_crossentropy: 0.3384 - val_acc: 0.8550\n",
      "Epoch 15/50\n",
      " - 83s - loss: 0.2762 - categorical_crossentropy: 0.2762 - acc: 0.8826 - val_loss: 0.3334 - val_categorical_crossentropy: 0.3334 - val_acc: 0.8546\n",
      "Epoch 16/50\n",
      " - 83s - loss: 0.2726 - categorical_crossentropy: 0.2726 - acc: 0.8843 - val_loss: 0.3368 - val_categorical_crossentropy: 0.3368 - val_acc: 0.8543\n",
      "Epoch 17/50\n",
      " - 83s - loss: 0.2687 - categorical_crossentropy: 0.2687 - acc: 0.8860 - val_loss: 0.3418 - val_categorical_crossentropy: 0.3418 - val_acc: 0.8548\n",
      "Epoch 18/50\n",
      " - 83s - loss: 0.2650 - categorical_crossentropy: 0.2650 - acc: 0.8878 - val_loss: 0.3372 - val_categorical_crossentropy: 0.3372 - val_acc: 0.8548\n",
      "Epoch 19/50\n",
      " - 83s - loss: 0.2623 - categorical_crossentropy: 0.2623 - acc: 0.8889 - val_loss: 0.3403 - val_categorical_crossentropy: 0.3403 - val_acc: 0.8539\n",
      "Epoch 20/50\n",
      " - 83s - loss: 0.2582 - categorical_crossentropy: 0.2582 - acc: 0.8912 - val_loss: 0.3412 - val_categorical_crossentropy: 0.3412 - val_acc: 0.8552\n",
      "Epoch 21/50\n",
      " - 83s - loss: 0.2554 - categorical_crossentropy: 0.2554 - acc: 0.8930 - val_loss: 0.3422 - val_categorical_crossentropy: 0.3422 - val_acc: 0.8550\n",
      "Epoch 22/50\n",
      " - 83s - loss: 0.2536 - categorical_crossentropy: 0.2536 - acc: 0.8937 - val_loss: 0.3439 - val_categorical_crossentropy: 0.3439 - val_acc: 0.8560\n",
      "Epoch 23/50\n",
      "^C\n",
      "Traceback (most recent call last):\n",
      "  File \"main.py\", line 101, in <module>\n",
      "    model.load_weights('./{}_best.hdf5'.format(config.model))\n",
      "  File \"/home/timmy/anaconda3/lib/python3.6/site-packages/keras/engine/training.py\", line 1705, in fit\n",
      "    validation_steps=validation_steps)\n",
      "  File \"/home/timmy/anaconda3/lib/python3.6/site-packages/keras/engine/training.py\", line 1236, in _fit_loop\n",
      "    outs = f(ins_batch)\n",
      "  File \"/home/timmy/anaconda3/lib/python3.6/site-packages/keras/backend/tensorflow_backend.py\", line 2482, in __call__\n",
      "    **self.session_kwargs)\n",
      "  File \"/home/timmy/anaconda3/lib/python3.6/site-packages/tensorflow/python/client/session.py\", line 900, in run\n",
      "    run_metadata_ptr)\n",
      "  File \"/home/timmy/anaconda3/lib/python3.6/site-packages/tensorflow/python/client/session.py\", line 1135, in _run\n",
      "    feed_dict_tensor, options, run_metadata)\n",
      "  File \"/home/timmy/anaconda3/lib/python3.6/site-packages/tensorflow/python/client/session.py\", line 1316, in _do_run\n",
      "    run_metadata)\n",
      "  File \"/home/timmy/anaconda3/lib/python3.6/site-packages/tensorflow/python/client/session.py\", line 1322, in _do_call\n",
      "    return fn(*args)\n",
      "  File \"/home/timmy/anaconda3/lib/python3.6/site-packages/tensorflow/python/client/session.py\", line 1307, in _run_fn\n",
      "    options, feed_dict, fetch_list, target_list, run_metadata)\n",
      "  File \"/home/timmy/anaconda3/lib/python3.6/site-packages/tensorflow/python/client/session.py\", line 1409, in _call_tf_sessionrun\n",
      "    run_metadata)\n",
      "KeyboardInterrupt\n"
     ]
    }
   ],
   "source": [
    "!python main.py --model baseline_attetion_fc --mode test"
   ]
  },
  {
   "cell_type": "code",
   "execution_count": null,
   "metadata": {},
   "outputs": [],
   "source": [
    "!python main.py --model dense_attention --epochs 30"
   ]
  },
  {
   "cell_type": "code",
   "execution_count": null,
   "metadata": {},
   "outputs": [],
   "source": [
    "!python main.py --model dense_attention --mode test"
   ]
  },
  {
   "cell_type": "code",
   "execution_count": null,
   "metadata": {},
   "outputs": [],
   "source": [
    "!python main.py --model baseline_preconv_attention --epochs 30"
   ]
  },
  {
   "cell_type": "code",
   "execution_count": null,
   "metadata": {},
   "outputs": [],
   "source": [
    "!python main.py --model baseline_preconv_attention --mode test"
   ]
  }
 ],
 "metadata": {
  "kernelspec": {
   "display_name": "Python 3",
   "language": "python",
   "name": "python3"
  },
  "language_info": {
   "codemirror_mode": {
    "name": "ipython",
    "version": 3
   },
   "file_extension": ".py",
   "mimetype": "text/x-python",
   "name": "python",
   "nbconvert_exporter": "python",
   "pygments_lexer": "ipython3",
   "version": "3.6.4"
  }
 },
 "nbformat": 4,
 "nbformat_minor": 2
}
